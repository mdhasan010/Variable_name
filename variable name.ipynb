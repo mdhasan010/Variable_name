{
 "cells": [
  {
   "cell_type": "code",
   "execution_count": 1,
   "id": "166975c4-89b3-4e69-bf8d-25907153b8a8",
   "metadata": {},
   "outputs": [],
   "source": [
    "# pascal case:"
   ]
  },
  {
   "cell_type": "code",
   "execution_count": 2,
   "id": "47b770c9-7791-4d2c-a144-50f11ff99afa",
   "metadata": {},
   "outputs": [],
   "source": [
    "MyVariableName = 'Nayeem'"
   ]
  },
  {
   "cell_type": "code",
   "execution_count": 3,
   "id": "0ebe6621-e5c7-423d-97ad-061f9d1ebbbd",
   "metadata": {},
   "outputs": [],
   "source": [
    "# snake case:"
   ]
  },
  {
   "cell_type": "code",
   "execution_count": 4,
   "id": "18519d68-73b4-4e10-a5dd-334d245010c9",
   "metadata": {},
   "outputs": [],
   "source": [
    "my_variable_name = 'Nayeem'"
   ]
  },
  {
   "cell_type": "code",
   "execution_count": 5,
   "id": "a2d3024c-ff60-4110-9b7f-5995a8988ae1",
   "metadata": {},
   "outputs": [],
   "source": [
    "# camel case:"
   ]
  },
  {
   "cell_type": "code",
   "execution_count": null,
   "id": "03ffc677-146a-4a82-959b-ef49e67b1bb1",
   "metadata": {},
   "outputs": [],
   "source": [
    "myVaeiableName = 'Nayeem'"
   ]
  }
 ],
 "metadata": {
  "kernelspec": {
   "display_name": "Python 3 (ipykernel)",
   "language": "python",
   "name": "python3"
  },
  "language_info": {
   "codemirror_mode": {
    "name": "ipython",
    "version": 3
   },
   "file_extension": ".py",
   "mimetype": "text/x-python",
   "name": "python",
   "nbconvert_exporter": "python",
   "pygments_lexer": "ipython3",
   "version": "3.12.7"
  }
 },
 "nbformat": 4,
 "nbformat_minor": 5
}
